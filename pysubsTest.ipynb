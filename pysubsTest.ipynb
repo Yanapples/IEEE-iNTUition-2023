{
 "cells": [
  {
   "cell_type": "code",
   "execution_count": 30,
   "metadata": {},
   "outputs": [],
   "source": [
    "SIMPLE_FILE = \"\"\"\\\n",
    "1\n",
    "00:00:02,000 --> 00:00:03,500\n",
    "Once upon a time,\n",
    "\n",
    "2\n",
    "00:00:03,500 --> 00:00:05,000\n",
    "there was a SubRip file\n",
    "with two subtitles.\n",
    "\"\"\"\n",
    "with open(\"black5s.srt\", \"w\") as fp:\n",
    "     fp.write(SIMPLE_FILE)"
   ]
  },
  {
   "cell_type": "code",
   "execution_count": 31,
   "metadata": {},
   "outputs": [
    {
     "data": {
      "text/plain": [
       "<SSAFile with 2 events and 1 styles, last timestamp 0:00:05>"
      ]
     },
     "execution_count": 31,
     "metadata": {},
     "output_type": "execute_result"
    }
   ],
   "source": [
    "import pysubs2\n",
    "subs = pysubs2.load(\"black5s.srt\")\n",
    "subs\n"
   ]
  },
  {
   "cell_type": "code",
   "execution_count": 37,
   "metadata": {},
   "outputs": [
    {
     "ename": "AttributeError",
     "evalue": "'SSAFile' object has no attribute 'text'",
     "output_type": "error",
     "traceback": [
      "\u001b[1;31m---------------------------------------------------------------------------\u001b[0m",
      "\u001b[1;31mAttributeError\u001b[0m                            Traceback (most recent call last)",
      "Cell \u001b[1;32mIn[37], line 2\u001b[0m\n\u001b[0;32m      1\u001b[0m subs\u001b[39m.\u001b[39mshift(\u001b[39m0\u001b[39m, \u001b[39m0\u001b[39m, \u001b[39m-\u001b[39m\u001b[39m2\u001b[39m)\n\u001b[1;32m----> 2\u001b[0m subs\u001b[39m.\u001b[39;49mtext\n",
      "\u001b[1;31mAttributeError\u001b[0m: 'SSAFile' object has no attribute 'text'"
     ]
    }
   ],
   "source": [
    "subs.shift(0, 0, -2)"
   ]
  },
  {
   "cell_type": "code",
   "execution_count": 32,
   "metadata": {},
   "outputs": [
    {
     "name": "stdout",
     "output_type": "stream",
     "text": [
      "Once upon a time,\n",
      "there was a SubRip file\\Nwith two subtitles.\n"
     ]
    }
   ],
   "source": [
    "subs[0].text\n",
    "for line in subs:\n",
    "    print(line.text)"
   ]
  },
  {
   "cell_type": "code",
   "execution_count": 33,
   "metadata": {},
   "outputs": [],
   "source": [
    "def shift(subs, ms):\n",
    "    for line in subs:\n",
    "        line.start += ms\n",
    "        line.end += ms"
   ]
  },
  {
   "cell_type": "code",
   "execution_count": 34,
   "metadata": {},
   "outputs": [],
   "source": [
    "subs.shift(s=-0.5)"
   ]
  },
  {
   "cell_type": "code",
   "execution_count": null,
   "metadata": {},
   "outputs": [],
   "source": []
  },
  {
   "cell_type": "code",
   "execution_count": 35,
   "metadata": {},
   "outputs": [],
   "source": [
    "my_style = subs.styles[\"Default\"].copy()\n",
    "my_style.italic = True\n",
    "my_style.primarycolor = pysubs2.Color(255, 255, 255)\n",
    "subs.styles[\"MyStyle\"] = my_style\n",
    "subs[0].style = \"MyStyle\"\n",
    "subs[1].style = \"MyStyle\""
   ]
  },
  {
   "cell_type": "code",
   "execution_count": null,
   "metadata": {},
   "outputs": [],
   "source": []
  },
  {
   "cell_type": "code",
   "execution_count": 36,
   "metadata": {},
   "outputs": [
    {
     "name": "stdout",
     "output_type": "stream",
     "text": [
      "Once upon a time,\n",
      "MyStyle\n",
      "there was a SubRip file\\Nwith two subtitles.\n",
      "MyStyle\n"
     ]
    }
   ],
   "source": [
    "for line in subs:\n",
    "    print(line.text)\n",
    "    print(line.style)"
   ]
  }
 ],
 "metadata": {
  "kernelspec": {
   "display_name": "Python 3",
   "language": "python",
   "name": "python3"
  },
  "language_info": {
   "codemirror_mode": {
    "name": "ipython",
    "version": 3
   },
   "file_extension": ".py",
   "mimetype": "text/x-python",
   "name": "python",
   "nbconvert_exporter": "python",
   "pygments_lexer": "ipython3",
   "version": "3.9.13"
  },
  "orig_nbformat": 4,
  "vscode": {
   "interpreter": {
    "hash": "62df06928f8fb3baa59aa657026e06dbebd333e13c731e6953076e3ce083ec0f"
   }
  }
 },
 "nbformat": 4,
 "nbformat_minor": 2
}
